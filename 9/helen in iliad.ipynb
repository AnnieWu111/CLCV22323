{
 "cells": [
  {
   "cell_type": "code",
   "execution_count": 64,
   "id": "3d76266b",
   "metadata": {},
   "outputs": [],
   "source": [
    "import json\n",
    "import urllib.request\n",
    "import csv"
   ]
  },
  {
   "cell_type": "code",
   "execution_count": null,
   "id": "0e0e684f",
   "metadata": {},
   "outputs": [],
   "source": [
    "# sparta: https://pleiades.stoa.org/places/570685\n",
    "# troy: https://pleiades.stoa.org/places/550595\n",
    "# egypt: https://pleiades.stoa.org/places/981503"
   ]
  },
  {
   "cell_type": "code",
   "execution_count": 69,
   "id": "f29c7f53",
   "metadata": {},
   "outputs": [],
   "source": [
    "def getjson(uri):   \n",
    "    uri = f\"https://pleiades.stoa.org/places/{uri}/json\"   \n",
    "    with urllib.request.urlopen(uri) as f:\n",
    "        data = json.loads(f.read().decode())\n",
    "    return data\n",
    "\n",
    "def coordinates(uri):\n",
    "    getjson(uri)\n",
    "    coords = getjson(uri)[\"features\"][0][\"geometry\"][\"coordinates\"]\n",
    "    longitude = coordinates[0]\n",
    "    latitude = coordinates[1]\n",
    "    return coords\n",
    "\n",
    "def export_coordinates(input_list, filename):\n",
    "    with open(filename, 'w', newline='') as csv_file:\n",
    "        writer = csv.DictWriter(csv_file, fieldnames=[\"title\", \"pleiadesID\", \"longitude\", \"latitude\"])\n",
    "        writer.writeheader()\n",
    "\n",
    "        for item in input_list:\n",
    "            title=data.get(\"title\") \n",
    "            pleiadesID=data.get(\"pleiadesID\") \n",
    "            longitude=data.get(\"longitude\")\n",
    "            latitude=data.get(\"latitude\")\n",
    "            writer.writerow({\"title\": title, \"pleiadesID\": pleiadesID, \"longitude\": longitude, \"latitude\": latitude})\n",
    "            "
   ]
  },
  {
   "cell_type": "code",
   "execution_count": 70,
   "id": "7efd35cf",
   "metadata": {},
   "outputs": [],
   "source": [
    "the_list = [570685, 550595, 981503]\n",
    "export_coordinates(the_list, \"heleniniliad.csv\")"
   ]
  }
 ],
 "metadata": {
  "kernelspec": {
   "display_name": "Python 3 (ipykernel)",
   "language": "python",
   "name": "python3"
  },
  "language_info": {
   "codemirror_mode": {
    "name": "ipython",
    "version": 3
   },
   "file_extension": ".py",
   "mimetype": "text/x-python",
   "name": "python",
   "nbconvert_exporter": "python",
   "pygments_lexer": "ipython3",
   "version": "3.11.5"
  }
 },
 "nbformat": 4,
 "nbformat_minor": 5
}
