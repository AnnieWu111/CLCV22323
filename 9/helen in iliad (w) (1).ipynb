{
 "cells": [
  {
   "cell_type": "code",
   "execution_count": 2,
   "id": "9fc739c2",
   "metadata": {},
   "outputs": [],
   "source": [
    "import json\n",
    "import urllib.request\n",
    "import csv\n",
    "import pandas as pd\n",
    "import os"
   ]
  },
  {
   "cell_type": "code",
   "execution_count": 3,
   "id": "38392351",
   "metadata": {},
   "outputs": [],
   "source": [
    "# sparta: https://pleiades.stoa.org/places/570685\n",
    "# troy: https://pleiades.stoa.org/places/550595\n",
    "# egypt: https://pleiades.stoa.org/places/981503"
   ]
  },
  {
   "cell_type": "code",
   "execution_count": 4,
   "id": "3097adab",
   "metadata": {},
   "outputs": [],
   "source": [
    "def get_json(uri):\n",
    "    uri = f\"https://pleiades.stoa.org/places/{uri}/json\"\n",
    "    with urllib.request.urlopen(uri) as f:\n",
    "        data = json.loads(f.read().decode())\n",
    "    return data"
   ]
  },
  {
   "cell_type": "code",
   "execution_count": 5,
   "id": "eebb4706",
   "metadata": {},
   "outputs": [],
   "source": [
    "def coordinates(uri):\n",
    "    coords = get_json(uri)[\"features\"][0][\"geometry\"][\"coordinates\"]\n",
    "    return coords"
   ]
  },
  {
   "cell_type": "code",
   "execution_count": 6,
   "id": "36e987b4",
   "metadata": {},
   "outputs": [],
   "source": [
    "def title(uri):\n",
    "    title = get_json(uri)['names'][0]['romanized']\n",
    "    return title"
   ]
  },
  {
   "cell_type": "code",
   "execution_count": 7,
   "id": "f48c40e8",
   "metadata": {},
   "outputs": [],
   "source": [
    "def title1(uri):\n",
    "    title1 = get_json(uri)['title']\n",
    "    return title1"
   ]
  },
  {
   "cell_type": "code",
   "execution_count": 8,
   "id": "8ae8397d",
   "metadata": {},
   "outputs": [],
   "source": [
    "def reprPoint(uri):\n",
    "    reprPoint = get_json(uri)[\"reprPoint\"]\n",
    "    return reprPoint"
   ]
  },
  {
   "cell_type": "code",
   "execution_count": 20,
   "id": "9e562e6b",
   "metadata": {},
   "outputs": [],
   "source": [
    "def export_coordinates(input_list,data_name):\n",
    "    \n",
    "    data = []\n",
    "    \n",
    "\n",
    "    for uri in input_list:\n",
    "        templist = []\n",
    "        try:\n",
    "            mycoordinates = coordinates(uri)  # requesting the coordinates\n",
    "            mytitle = title(uri)\n",
    "            longitude = mycoordinates[0]\n",
    "            latitude = mycoordinates[1] \n",
    "            templist.append(uri)\n",
    "            templist.append(mytitle)\n",
    "            templist.append(longitude)\n",
    "            templist.append(latitude)\n",
    "\n",
    "        except:\n",
    "            mycoordinates = reprPoint(uri)  # requesting the coordinates\n",
    "            mytitle = title1(uri)\n",
    "            longitude = mycoordinates[0]\n",
    "            latitude = mycoordinates[1] \n",
    "            templist.append(uri)\n",
    "            templist.append(mytitle)\n",
    "            templist.append(longitude)\n",
    "            templist.append(latitude)\n",
    "            \n",
    "        data.append(templist)\n",
    "\n",
    "    df = pd.DataFrame(data)\n",
    "    df.rename(columns={0: 'uri',1:'mytitle',2:'longitude',3:'latitude'}).to_csv(data_name,index=False)"
   ]
  },
  {
   "cell_type": "code",
   "execution_count": 21,
   "id": "d772e762",
   "metadata": {},
   "outputs": [],
   "source": [
    "input_list = [570685, 550595, 981503]\n",
    "export_coordinates(input_list, \"heleniniliad.csv\")"
   ]
  },
  {
   "cell_type": "code",
   "execution_count": null,
   "id": "8f0afd53",
   "metadata": {},
   "outputs": [],
   "source": []
  }
 ],
 "metadata": {
  "kernelspec": {
   "display_name": "Python 3 (ipykernel)",
   "language": "python",
   "name": "python3"
  },
  "language_info": {
   "codemirror_mode": {
    "name": "ipython",
    "version": 3
   },
   "file_extension": ".py",
   "mimetype": "text/x-python",
   "name": "python",
   "nbconvert_exporter": "python",
   "pygments_lexer": "ipython3",
   "version": "3.11.5"
  }
 },
 "nbformat": 4,
 "nbformat_minor": 5
}
