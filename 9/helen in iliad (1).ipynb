{
 "cells": [
  {
   "cell_type": "code",
   "execution_count": 200,
   "id": "3d76266b",
   "metadata": {},
   "outputs": [],
   "source": [
    "import json\n",
    "import urllib.request\n",
    "import csv"
   ]
  },
  {
   "cell_type": "code",
   "execution_count": null,
   "id": "cb8c890a",
   "metadata": {},
   "outputs": [],
   "source": [
    "# sparta: https://pleiades.stoa.org/places/570685\n",
    "# troy: https://pleiades.stoa.org/places/550595\n",
    "# egypt: https://pleiades.stoa.org/places/981503"
   ]
  },
  {
   "cell_type": "code",
   "execution_count": 239,
   "id": "6bc650fa",
   "metadata": {},
   "outputs": [],
   "source": [
    "def get_json(uri):\n",
    "    uri = f\"https://pleiades.stoa.org/places/{uri}/json\"\n",
    "    with urllib.request.urlopen(uri) as f:\n",
    "        data = json.loads(f.read().decode())\n",
    "    return data"
   ]
  },
  {
   "cell_type": "code",
   "execution_count": 240,
   "id": "4f1f232e",
   "metadata": {},
   "outputs": [],
   "source": [
    "def coordinates(uri):\n",
    "    getjson(uri)\n",
    "    coords = getjson(uri)[\"features\"][0][\"geometry\"][\"coordinates\"]\n",
    "    return coords"
   ]
  },
  {
   "cell_type": "code",
   "execution_count": 292,
   "id": "f59bd1c2",
   "metadata": {},
   "outputs": [],
   "source": [
    "def export_coordinates(input_list, filename):\n",
    "    field_names = [\"title\", \"pleiadesID\", \"longitude\", \"latitude\"]\n",
    "    data = []\n",
    "\n",
    "    for uri in input_list:\n",
    "        try:\n",
    "            response = get_json(uri)  \n",
    "\n",
    "            title = response.get(\"title\")\n",
    "            pleiadesID = response.get(\"pleiadesID\")\n",
    "            coordinates = response.get(\"coordinates\")\n",
    "            longitude = coordinates[0]\n",
    "            latitude = coordinates[1]           \n",
    "\n",
    "        except:\n",
    "            print(\"location's none\")\n",
    "\n",
    "    with open(filename, 'w', newline='') as csvfile:\n",
    "        writer = csv.DictWriter(csvfile, fieldnames=field_names)\n",
    "        writer.writeheader()\n",
    "        writer.writerows(data)"
   ]
  },
  {
   "cell_type": "code",
   "execution_count": 293,
   "id": "514b67c8",
   "metadata": {},
   "outputs": [
    {
     "name": "stdout",
     "output_type": "stream",
     "text": [
      "location's none\n",
      "location's none\n",
      "location's none\n"
     ]
    }
   ],
   "source": [
    "input_list = [570685, 550595, 981503]\n",
    "export_coordinates(input_list, \"heleniniliad.csv\")"
   ]
  },
  {
   "cell_type": "code",
   "execution_count": null,
   "id": "0946c835",
   "metadata": {},
   "outputs": [],
   "source": []
  }
 ],
 "metadata": {
  "kernelspec": {
   "display_name": "Python 3 (ipykernel)",
   "language": "python",
   "name": "python3"
  },
  "language_info": {
   "codemirror_mode": {
    "name": "ipython",
    "version": 3
   },
   "file_extension": ".py",
   "mimetype": "text/x-python",
   "name": "python",
   "nbconvert_exporter": "python",
   "pygments_lexer": "ipython3",
   "version": "3.11.5"
  }
 },
 "nbformat": 4,
 "nbformat_minor": 5
}
