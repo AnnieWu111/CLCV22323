{
 "cells": [
  {
   "cell_type": "markdown",
   "id": "07deb814",
   "metadata": {},
   "source": [
    "Create an ordered list with the city of each province with the most monuments, along with the counts of the monuments\n"
   ]
  },
  {
   "cell_type": "code",
   "execution_count": 72,
   "id": "b6e5659f",
   "metadata": {},
   "outputs": [],
   "source": [
    "import pandas as pd\n",
    "import sqlite3"
   ]
  },
  {
   "cell_type": "code",
   "execution_count": 73,
   "id": "14b86553",
   "metadata": {},
   "outputs": [
    {
     "data": {
      "text/plain": [
       "9472"
      ]
     },
     "execution_count": 73,
     "metadata": {},
     "output_type": "execute_result"
    }
   ],
   "source": [
    "connection = sqlite3.connect(\":memory:\")\n",
    "\n",
    "cities_df = pd.read_excel(\"Hanson2016_CitiesDatabase_OxREP.xlsx\", sheet_name=\"cities\")\n",
    "cities_df.to_sql(\"cities\", con = connection, index = False)\n",
    "monuments_df = pd.read_excel(\"Hanson2016_CitiesDatabase_OxREP.xlsx\", sheet_name=\"monuments\")\n",
    "monuments_df.to_sql(\"monuments\", con=connection, index=False)"
   ]
  },
  {
   "cell_type": "code",
   "execution_count": 74,
   "id": "d6723f79",
   "metadata": {},
   "outputs": [
    {
     "data": {
      "text/html": [
       "<div>\n",
       "<style scoped>\n",
       "    .dataframe tbody tr th:only-of-type {\n",
       "        vertical-align: middle;\n",
       "    }\n",
       "\n",
       "    .dataframe tbody tr th {\n",
       "        vertical-align: top;\n",
       "    }\n",
       "\n",
       "    .dataframe thead th {\n",
       "        text-align: right;\n",
       "    }\n",
       "</style>\n",
       "<table border=\"1\" class=\"dataframe\">\n",
       "  <thead>\n",
       "    <tr style=\"text-align: right;\">\n",
       "      <th></th>\n",
       "      <th>province</th>\n",
       "      <th>ancient_toponym</th>\n",
       "      <th>count</th>\n",
       "    </tr>\n",
       "  </thead>\n",
       "  <tbody>\n",
       "    <tr>\n",
       "      <th>0</th>\n",
       "      <td>Italia (VII Etruria)</td>\n",
       "      <td>Roma</td>\n",
       "      <td>236</td>\n",
       "    </tr>\n",
       "    <tr>\n",
       "      <th>1</th>\n",
       "      <td>Achaea</td>\n",
       "      <td>Athenae</td>\n",
       "      <td>107</td>\n",
       "    </tr>\n",
       "    <tr>\n",
       "      <th>2</th>\n",
       "      <td>Achaea</td>\n",
       "      <td>Corinthia</td>\n",
       "      <td>56</td>\n",
       "    </tr>\n",
       "    <tr>\n",
       "      <th>3</th>\n",
       "      <td>Asia</td>\n",
       "      <td>Pergamum</td>\n",
       "      <td>50</td>\n",
       "    </tr>\n",
       "    <tr>\n",
       "      <th>4</th>\n",
       "      <td>Africa Proconsularis</td>\n",
       "      <td>Lepcis Magna</td>\n",
       "      <td>46</td>\n",
       "    </tr>\n",
       "    <tr>\n",
       "      <th>...</th>\n",
       "      <td>...</td>\n",
       "      <td>...</td>\n",
       "      <td>...</td>\n",
       "    </tr>\n",
       "    <tr>\n",
       "      <th>1202</th>\n",
       "      <td>Lusitania</td>\n",
       "      <td>Balsa</td>\n",
       "      <td>1</td>\n",
       "    </tr>\n",
       "    <tr>\n",
       "      <th>1203</th>\n",
       "      <td>Italia (XI Transpadana)</td>\n",
       "      <td>Laumellum</td>\n",
       "      <td>1</td>\n",
       "    </tr>\n",
       "    <tr>\n",
       "      <th>1204</th>\n",
       "      <td>Italia (X Venetia et Histria)</td>\n",
       "      <td>Mantua</td>\n",
       "      <td>1</td>\n",
       "    </tr>\n",
       "    <tr>\n",
       "      <th>1205</th>\n",
       "      <td>Italia (X Venetia et Histria)</td>\n",
       "      <td>Albona</td>\n",
       "      <td>1</td>\n",
       "    </tr>\n",
       "    <tr>\n",
       "      <th>1206</th>\n",
       "      <td>Italia (VII Etruria)</td>\n",
       "      <td>Tifernum Tiberinum</td>\n",
       "      <td>1</td>\n",
       "    </tr>\n",
       "  </tbody>\n",
       "</table>\n",
       "<p>1207 rows × 3 columns</p>\n",
       "</div>"
      ],
      "text/plain": [
       "                           province     ancient_toponym  count\n",
       "0              Italia (VII Etruria)                Roma    236\n",
       "1                            Achaea             Athenae    107\n",
       "2                            Achaea           Corinthia     56\n",
       "3                              Asia            Pergamum     50\n",
       "4              Africa Proconsularis        Lepcis Magna     46\n",
       "...                             ...                 ...    ...\n",
       "1202                      Lusitania               Balsa      1\n",
       "1203        Italia (XI Transpadana)           Laumellum      1\n",
       "1204  Italia (X Venetia et Histria)              Mantua      1\n",
       "1205  Italia (X Venetia et Histria)              Albona      1\n",
       "1206           Italia (VII Etruria)  Tifernum Tiberinum      1\n",
       "\n",
       "[1207 rows x 3 columns]"
      ]
     },
     "execution_count": 74,
     "metadata": {},
     "output_type": "execute_result"
    }
   ],
   "source": [
    "df = pd.read_sql(\"\"\"\n",
    "SELECT b.province, b.ancient_toponym, COUNT (*) AS \"count\"\n",
    "\n",
    "FROM monuments a ,cities b \n",
    "WHERE a.id = b.id\n",
    "\n",
    "GROUP BY a.id\n",
    "ORDER BY \"count\" DESC;\n",
    "\n",
    "\"\"\", connection)\n",
    "df"
   ]
  },
  {
   "cell_type": "code",
   "execution_count": null,
   "id": "c4e6e0fe",
   "metadata": {},
   "outputs": [],
   "source": []
  }
 ],
 "metadata": {
  "kernelspec": {
   "display_name": "Python 3 (ipykernel)",
   "language": "python",
   "name": "python3"
  },
  "language_info": {
   "codemirror_mode": {
    "name": "ipython",
    "version": 3
   },
   "file_extension": ".py",
   "mimetype": "text/x-python",
   "name": "python",
   "nbconvert_exporter": "python",
   "pygments_lexer": "ipython3",
   "version": "3.11.5"
  }
 },
 "nbformat": 4,
 "nbformat_minor": 5
}
